{
  "nbformat": 4,
  "nbformat_minor": 0,
  "metadata": {
    "colab": {
      "provenance": [],
      "authorship_tag": "ABX9TyNAsPPIrPLNNIDKoe/NXCHb",
      "include_colab_link": true
    },
    "kernelspec": {
      "name": "python3",
      "display_name": "Python 3"
    },
    "language_info": {
      "name": "python"
    }
  },
  "cells": [
    {
      "cell_type": "markdown",
      "metadata": {
        "id": "view-in-github",
        "colab_type": "text"
      },
      "source": [
        "<a href=\"https://colab.research.google.com/github/ShantalIglesias/Comp-QM-206/blob/main/Taller_N%C2%B01.ipynb\" target=\"_parent\"><img src=\"https://colab.research.google.com/assets/colab-badge.svg\" alt=\"Open In Colab\"/></a>"
      ]
    },
    {
      "cell_type": "markdown",
      "source": [
        "Tarea"
      ],
      "metadata": {
        "id": "cVprBjsa_jHV"
      }
    },
    {
      "cell_type": "code",
      "execution_count": null,
      "metadata": {
        "colab": {
          "base_uri": "https://localhost:8080/"
        },
        "id": "X8BetHH1_iLb",
        "outputId": "ee4ef678-2fdc-4715-91ba-f45294fd825a"
      },
      "outputs": [
        {
          "output_type": "stream",
          "name": "stdout",
          "text": [
            "[{'simbolo': 'H', 'nombre': 'Hidrogeno', 'NA': '1', 'Masa': '1.008'}, {'simbolo': 'He', 'nombre': 'Helio', 'NA': '2', 'Masa': '4.003'}, {'simbolo': 'Li', 'nombre': 'Litio', 'NA': '3', 'Masa': '6.941'}, {'simbolo': 'Be', 'nombre': 'Berilio', 'NA': '4', 'Masa': '9.012'}, {'simbolo': 'B', 'nombre': 'Boro', 'Na': '5', 'Masa': '10.811'}, {'simbolo': 'C', 'nombre': 'Carbono', 'NA': '6', 'Masa': '12.011'}, {'simbolo': 'N', 'nombre': 'Nitrogeno', 'NA': '7', 'Masa': '14.01'}, {'simbolo': 'O', 'nombre': 'Oxigeno', 'NA': '8', 'Masa': '15.99'}, {'simbolo': 'F', 'nombre': 'Fluor', 'NA': '9', 'Masa': '18.998'}, {'simbolo': 'Ne', 'nombre': 'Neon', 'NA': '10', 'masa': '20.18'}, {'simbolo': 'Na', 'nombre': 'Sodio', 'NA': '11', 'Masa': '22.99'}, {'simbolo': 'Mg', 'nombre': 'Magnesio', 'NA': '12', 'Masa': '24.31'}, {'simbolo': 'Al', 'nombre': 'Aluminio', 'NA': '13', 'masa': '26.98'}, {'simbolo': 'Si', 'nombre': 'Silicio', 'NA': '14', 'Masa': '28.09'}, {'simbolo': 'P', 'nombre': 'Fosforo', 'NA': '15', 'masa': '30.97'}, {'simbolo': 'S', 'nombre': 'Azufre', 'NA': '16', 'Masa': '32.07'}, {'simbolo': 'Cl', 'nombre': 'Cloro', 'NA': '17', 'Masa': '35.45'}, {'simbolo': 'Ar', 'nombre': 'Argon', 'NA': '18', 'Masa': '39.95'}, {'simbolo': 'K', 'nombre': 'Potasio', 'NA': '19', 'Masa': '39.09'}, {'simbolo': 'Ca', 'nombre': 'Calcio', 'NA': '20', 'Masa': '40.08'}]\n"
          ]
        }
      ],
      "source": [
        "elementos=[]\n",
        "elem={\"simbolo\":\"H\",\"nombre\":\"Hidrogeno\",\"NA\":\"1\",\"Masa\":\"1.008\"}\n",
        "elementos.append(elem)\n",
        "elem={\"simbolo\":\"He\",\"nombre\":\"Helio\",\"NA\":\"2\",\"Masa\":\"4.003\"}\n",
        "elementos.append(elem)\n",
        "elem={\"simbolo\":\"Li\",\"nombre\":\"Litio\",\"NA\":\"3\",\"Masa\":\"6.941\"}\n",
        "elementos.append(elem)\n",
        "elem={\"simbolo\":\"Be\",\"nombre\":\"Berilio\",\"NA\":\"4\",\"Masa\":\"9.012\"}\n",
        "elementos.append(elem)\n",
        "elem={\"simbolo\":\"B\",\"nombre\":\"Boro\",\"Na\":\"5\",\"Masa\":\"10.811\"}\n",
        "elementos.append(elem)\n",
        "elem={\"simbolo\":\"C\",\"nombre\":\"Carbono\",\"NA\":\"6\",\"Masa\":\"12.011\"}\n",
        "elementos.append(elem)\n",
        "elem={\"simbolo\":\"N\",\"nombre\":\"Nitrogeno\",\"NA\":\"7\",\"Masa\":\"14.01\"}\n",
        "elementos.append(elem)\n",
        "elem={\"simbolo\":\"O\",\"nombre\":\"Oxigeno\",\"NA\":\"8\",\"Masa\":\"15.99\"}\n",
        "elementos.append(elem)\n",
        "elem={\"simbolo\":\"F\",\"nombre\":\"Fluor\",\"NA\":\"9\",\"Masa\":\"18.998\"}\n",
        "elementos.append(elem)\n",
        "elem={\"simbolo\":\"Ne\",\"nombre\":\"Neon\",\"NA\":\"10\",\"masa\":\"20.18\"}\n",
        "elementos.append(elem)\n",
        "elem={\"simbolo\":\"Na\",\"nombre\":\"Sodio\",\"NA\":\"11\",\"Masa\":\"22.99\"}\n",
        "elementos.append(elem)\n",
        "elem={\"simbolo\":\"Mg\",\"nombre\":\"Magnesio\",\"NA\":\"12\",\"Masa\":\"24.31\"}\n",
        "elementos.append(elem)\n",
        "elem={\"simbolo\":\"Al\",\"nombre\":\"Aluminio\",\"NA\":\"13\",\"masa\":\"26.98\"}\n",
        "elementos.append(elem)\n",
        "elem={\"simbolo\":\"Si\",\"nombre\":\"Silicio\",\"NA\":\"14\",\"Masa\":\"28.09\"}\n",
        "elementos.append(elem)\n",
        "elem={\"simbolo\":\"P\",\"nombre\":\"Fosforo\",\"NA\":\"15\",\"masa\":\"30.97\"}\n",
        "elementos.append(elem)\n",
        "elem={\"simbolo\":\"S\",\"nombre\":\"Azufre\",\"NA\":\"16\",\"Masa\":\"32.07\"}\n",
        "elementos.append(elem)\n",
        "elem={\"simbolo\":\"Cl\",\"nombre\":\"Cloro\",\"NA\":\"17\",\"Masa\":\"35.45\"}\n",
        "elementos.append(elem)\n",
        "elem={\"simbolo\":\"Ar\",\"nombre\":\"Argon\",\"NA\":\"18\",\"Masa\":\"39.95\"}\n",
        "elementos.append(elem)\n",
        "elem={\"simbolo\":\"K\",\"nombre\":\"Potasio\",\"NA\":\"19\",\"Masa\":\"39.09\"}\n",
        "elementos.append(elem)\n",
        "elem={\"simbolo\":\"Ca\",\"nombre\":\"Calcio\",\"NA\":\"20\",\"Masa\":\"40.08\"}\n",
        "elementos.append(elem)\n",
        "print(elementos)"
      ]
    }
  ]
}